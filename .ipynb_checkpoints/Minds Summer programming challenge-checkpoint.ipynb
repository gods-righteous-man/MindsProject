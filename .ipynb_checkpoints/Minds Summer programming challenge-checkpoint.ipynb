{
 "cells": [
  {
   "cell_type": "code",
   "execution_count": 11,
   "id": "c6b8a363",
   "metadata": {},
   "outputs": [],
   "source": [
    "import os\n",
    "from tqdm import tqdm\n",
    "from gensim.parsing.preprocessing import remove_stopwords\n",
    "from textblob import TextBlob"
   ]
  },
  {
   "cell_type": "code",
   "execution_count": 2,
   "id": "47a5dbae",
   "metadata": {},
   "outputs": [],
   "source": [
    "def remove_punc(string):\n",
    "    punc = '''!()-[]{};:'\"\\,<>./?@#$%^&*_~0123456789'''\n",
    "    for ele in string:  \n",
    "        if ele in punc:  \n",
    "            string = string.replace(ele, \"\") \n",
    "    return string"
   ]
  },
  {
   "cell_type": "code",
   "execution_count": 3,
   "id": "e0bfb1d0",
   "metadata": {},
   "outputs": [
    {
     "name": "stdout",
     "output_type": "stream",
     "text": [
      "./data_copy/art9.txt\n",
      "./data_copy/art8.txt\n",
      "./data_copy/art10.txt\n",
      "./data_copy/art5.txt\n",
      "./data_copy/art4.txt\n",
      "./data_copy/art6.txt\n",
      "./data_copy/art7.txt\n",
      "./data_copy/art3.txt\n",
      "./data_copy/art2.txt\n",
      "./data_copy/art1.txt\n"
     ]
    }
   ],
   "source": [
    "directory = ['./data_copy/']\n",
    "# 'content/drive/MyDrive/ML DS Final Project/data/neg_copy'\n",
    "#created copies of pos and neg file and worked on it in order not to disturb the original data\n",
    "for i in directory:\n",
    "    for filename in os.listdir(i):\n",
    "        f = os.path.join(i, filename)\n",
    "        print(f)\n",
    "        if f != './data_copy/.DS_Store':\n",
    "            with open(f,'r',encoding=\"utf-8\") as file:\n",
    "                data = file.read()\n",
    "            with open(f,\"w+\",encoding=\"utf-8\") as file:\n",
    "                file.write(remove_punc(data))\n",
    "        "
   ]
  },
  {
   "cell_type": "code",
   "execution_count": 8,
   "id": "56987c6a",
   "metadata": {},
   "outputs": [],
   "source": [
    "def rem_stopwords(string):\n",
    "    filtered_sentence = remove_stopwords(string)\n",
    "    return filtered_sentence"
   ]
  },
  {
   "cell_type": "code",
   "execution_count": 9,
   "id": "3bdfa370",
   "metadata": {},
   "outputs": [
    {
     "name": "stdout",
     "output_type": "stream",
     "text": [
      "./data_copy/art9.txt\n",
      "./data_copy/art8.txt\n",
      "./data_copy/art10.txt\n",
      "./data_copy/art5.txt\n",
      "./data_copy/art4.txt\n",
      "./data_copy/art6.txt\n",
      "./data_copy/art7.txt\n",
      "./data_copy/art3.txt\n",
      "./data_copy/art2.txt\n",
      "./data_copy/art1.txt\n"
     ]
    }
   ],
   "source": [
    "for i in directory:\n",
    "    for filename in os.listdir(i):\n",
    "        f = os.path.join(i, filename)\n",
    "        print(f)\n",
    "        if f != './data_copy/.DS_Store':\n",
    "            with open(f,'r',encoding=\"utf-8\") as file:\n",
    "                data = file.read()\n",
    "            with open(f,\"w+\",encoding=\"utf-8\") as file:\n",
    "                file.write(rem_stopwords(data))"
   ]
  },
  {
   "cell_type": "code",
   "execution_count": 23,
   "id": "0bba0809",
   "metadata": {},
   "outputs": [],
   "source": [
    "def sentimentvalue(string):\n",
    "    blob = TextBlob(string)\n",
    "    sent = blob.sentiment\n",
    "    return (sent)"
   ]
  },
  {
   "cell_type": "code",
   "execution_count": 24,
   "id": "70061340",
   "metadata": {},
   "outputs": [
    {
     "name": "stdout",
     "output_type": "stream",
     "text": [
      "./data_copy/art9.txt\n",
      "./data_copy/art8.txt\n",
      "./data_copy/art10.txt\n",
      "./data_copy/art5.txt\n",
      "./data_copy/art4.txt\n",
      "./data_copy/art6.txt\n",
      "./data_copy/art7.txt\n",
      "./data_copy/art3.txt\n",
      "./data_copy/art2.txt\n",
      "./data_copy/art1.txt\n"
     ]
    }
   ],
   "source": [
    "temp = []\n",
    "for i in directory:\n",
    "    for filename in os.listdir(i):\n",
    "        f = os.path.join(i, filename)\n",
    "        print(f)\n",
    "        if f != './data_copy/.DS_Store':\n",
    "            with open(f,'r',encoding=\"utf-8\") as file:\n",
    "                data = file.read()\n",
    "                temp.append(sentimentvalue(data))"
   ]
  },
  {
   "cell_type": "code",
   "execution_count": 29,
   "id": "bea84f4f",
   "metadata": {},
   "outputs": [
    {
     "name": "stdout",
     "output_type": "stream",
     "text": [
      "-0.06385135135135137\n",
      "0.3108108108108108\n"
     ]
    }
   ],
   "source": [
    "print(*temp, sep='\\n')"
   ]
  },
  {
   "cell_type": "code",
   "execution_count": null,
   "id": "3db96955",
   "metadata": {},
   "outputs": [],
   "source": []
  },
  {
   "cell_type": "code",
   "execution_count": null,
   "id": "ec20e69d",
   "metadata": {},
   "outputs": [],
   "source": []
  },
  {
   "cell_type": "code",
   "execution_count": null,
   "id": "b1da6543",
   "metadata": {},
   "outputs": [],
   "source": []
  },
  {
   "cell_type": "code",
   "execution_count": null,
   "id": "e2830246",
   "metadata": {},
   "outputs": [],
   "source": []
  },
  {
   "cell_type": "code",
   "execution_count": null,
   "id": "7f933ee4",
   "metadata": {},
   "outputs": [],
   "source": []
  },
  {
   "cell_type": "code",
   "execution_count": null,
   "id": "6b1d05a7",
   "metadata": {},
   "outputs": [],
   "source": []
  },
  {
   "cell_type": "code",
   "execution_count": null,
   "id": "339b6611",
   "metadata": {},
   "outputs": [],
   "source": []
  },
  {
   "cell_type": "code",
   "execution_count": null,
   "id": "3c7fce82",
   "metadata": {},
   "outputs": [],
   "source": []
  },
  {
   "cell_type": "code",
   "execution_count": null,
   "id": "411f4a08",
   "metadata": {},
   "outputs": [],
   "source": []
  },
  {
   "cell_type": "code",
   "execution_count": null,
   "id": "7be7f8ef",
   "metadata": {},
   "outputs": [],
   "source": []
  },
  {
   "cell_type": "code",
   "execution_count": null,
   "id": "fd5e2e8d",
   "metadata": {},
   "outputs": [],
   "source": []
  },
  {
   "cell_type": "code",
   "execution_count": null,
   "id": "09df5d7a",
   "metadata": {},
   "outputs": [],
   "source": []
  },
  {
   "cell_type": "code",
   "execution_count": null,
   "id": "ed245b6a",
   "metadata": {},
   "outputs": [],
   "source": []
  },
  {
   "cell_type": "code",
   "execution_count": null,
   "id": "8855657c",
   "metadata": {},
   "outputs": [],
   "source": []
  },
  {
   "cell_type": "code",
   "execution_count": null,
   "id": "00aa91d6",
   "metadata": {},
   "outputs": [],
   "source": []
  },
  {
   "cell_type": "code",
   "execution_count": null,
   "id": "0733e2d4",
   "metadata": {},
   "outputs": [],
   "source": []
  },
  {
   "cell_type": "code",
   "execution_count": null,
   "id": "956ff0fa",
   "metadata": {},
   "outputs": [],
   "source": []
  },
  {
   "cell_type": "code",
   "execution_count": null,
   "id": "6b8381fd",
   "metadata": {},
   "outputs": [],
   "source": []
  }
 ],
 "metadata": {
  "kernelspec": {
   "display_name": "Python 3 (ipykernel)",
   "language": "python",
   "name": "python3"
  },
  "language_info": {
   "codemirror_mode": {
    "name": "ipython",
    "version": 3
   },
   "file_extension": ".py",
   "mimetype": "text/x-python",
   "name": "python",
   "nbconvert_exporter": "python",
   "pygments_lexer": "ipython3",
   "version": "3.9.7"
  }
 },
 "nbformat": 4,
 "nbformat_minor": 5
}
